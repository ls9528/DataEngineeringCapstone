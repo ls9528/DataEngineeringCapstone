{
 "cells": [
  {
   "cell_type": "markdown",
   "metadata": {
    "editable": true
   },
   "source": [
    "# Project Title\n",
    "### Data Engineering Capstone Project\n",
    "\n",
    "#### Project Summary\n",
    "--describe your project at a high level--\n",
    "\n",
    "The project follows the follow steps:\n",
    "* Step 1: Scope the Project and Gather Data\n",
    "* Step 2: Explore and Assess the Data\n",
    "* Step 3: Define the Data Model\n",
    "* Step 4: Run ETL to Model the Data\n",
    "* Step 5: Complete Project Write Up"
   ]
  },
  {
   "cell_type": "code",
   "execution_count": 1,
   "metadata": {
    "editable": true
   },
   "outputs": [],
   "source": [
    "# Do all imports and installs here\n",
    "import pandas as pd\n",
    "from pyspark.sql import SparkSession \n",
    "from pyspark.sql.types import IntegerType, DoubleType \n",
    "from pyspark.sql.functions import col, asc, desc, udf, to_date\n",
    "import datetime as dt"
   ]
  },
  {
   "cell_type": "markdown",
   "metadata": {
    "editable": true
   },
   "source": [
    "### Step 1: Scope the Project and Gather Data\n",
    "\n",
    "#### Scope \n",
    "Explain what you plan to do in the project in more detail. What data do you use? What is your end solution look like? What tools did you use? etc>\n",
    "\n",
    "#### Describe and Gather Data \n",
    "Describe the data sets you're using. Where did it come from? What type of information is included? "
   ]
  },
  {
   "cell_type": "code",
   "execution_count": 5,
   "metadata": {
    "editable": true
   },
   "outputs": [],
   "source": [
    "# Read in the data here\n"
   ]
  },
  {
   "cell_type": "code",
   "execution_count": 6,
   "metadata": {
    "editable": true
   },
   "outputs": [
    {
     "data": {
      "text/html": [
       "<div>\n",
       "<style scoped>\n",
       "    .dataframe tbody tr th:only-of-type {\n",
       "        vertical-align: middle;\n",
       "    }\n",
       "\n",
       "    .dataframe tbody tr th {\n",
       "        vertical-align: top;\n",
       "    }\n",
       "\n",
       "    .dataframe thead th {\n",
       "        text-align: right;\n",
       "    }\n",
       "</style>\n",
       "<table border=\"1\" class=\"dataframe\">\n",
       "  <thead>\n",
       "    <tr style=\"text-align: right;\">\n",
       "      <th></th>\n",
       "      <th>cicid</th>\n",
       "      <th>i94yr</th>\n",
       "      <th>i94mon</th>\n",
       "      <th>i94cit</th>\n",
       "      <th>i94res</th>\n",
       "      <th>i94port</th>\n",
       "      <th>arrdate</th>\n",
       "      <th>i94mode</th>\n",
       "      <th>i94addr</th>\n",
       "      <th>depdate</th>\n",
       "      <th>...</th>\n",
       "      <th>entdepu</th>\n",
       "      <th>matflag</th>\n",
       "      <th>biryear</th>\n",
       "      <th>dtaddto</th>\n",
       "      <th>gender</th>\n",
       "      <th>insnum</th>\n",
       "      <th>airline</th>\n",
       "      <th>admnum</th>\n",
       "      <th>fltno</th>\n",
       "      <th>visatype</th>\n",
       "    </tr>\n",
       "  </thead>\n",
       "  <tbody>\n",
       "    <tr>\n",
       "      <th>0</th>\n",
       "      <td>6.0</td>\n",
       "      <td>2016.0</td>\n",
       "      <td>4.0</td>\n",
       "      <td>692.0</td>\n",
       "      <td>692.0</td>\n",
       "      <td>XXX</td>\n",
       "      <td>20573.0</td>\n",
       "      <td>NaN</td>\n",
       "      <td>NaN</td>\n",
       "      <td>NaN</td>\n",
       "      <td>...</td>\n",
       "      <td>U</td>\n",
       "      <td>NaN</td>\n",
       "      <td>1979.0</td>\n",
       "      <td>10282016</td>\n",
       "      <td>NaN</td>\n",
       "      <td>NaN</td>\n",
       "      <td>NaN</td>\n",
       "      <td>1.897628e+09</td>\n",
       "      <td>NaN</td>\n",
       "      <td>B2</td>\n",
       "    </tr>\n",
       "    <tr>\n",
       "      <th>1</th>\n",
       "      <td>7.0</td>\n",
       "      <td>2016.0</td>\n",
       "      <td>4.0</td>\n",
       "      <td>254.0</td>\n",
       "      <td>276.0</td>\n",
       "      <td>ATL</td>\n",
       "      <td>20551.0</td>\n",
       "      <td>1.0</td>\n",
       "      <td>AL</td>\n",
       "      <td>NaN</td>\n",
       "      <td>...</td>\n",
       "      <td>Y</td>\n",
       "      <td>NaN</td>\n",
       "      <td>1991.0</td>\n",
       "      <td>D/S</td>\n",
       "      <td>M</td>\n",
       "      <td>NaN</td>\n",
       "      <td>NaN</td>\n",
       "      <td>3.736796e+09</td>\n",
       "      <td>00296</td>\n",
       "      <td>F1</td>\n",
       "    </tr>\n",
       "    <tr>\n",
       "      <th>2</th>\n",
       "      <td>15.0</td>\n",
       "      <td>2016.0</td>\n",
       "      <td>4.0</td>\n",
       "      <td>101.0</td>\n",
       "      <td>101.0</td>\n",
       "      <td>WAS</td>\n",
       "      <td>20545.0</td>\n",
       "      <td>1.0</td>\n",
       "      <td>MI</td>\n",
       "      <td>20691.0</td>\n",
       "      <td>...</td>\n",
       "      <td>NaN</td>\n",
       "      <td>M</td>\n",
       "      <td>1961.0</td>\n",
       "      <td>09302016</td>\n",
       "      <td>M</td>\n",
       "      <td>NaN</td>\n",
       "      <td>OS</td>\n",
       "      <td>6.666432e+08</td>\n",
       "      <td>93</td>\n",
       "      <td>B2</td>\n",
       "    </tr>\n",
       "    <tr>\n",
       "      <th>3</th>\n",
       "      <td>16.0</td>\n",
       "      <td>2016.0</td>\n",
       "      <td>4.0</td>\n",
       "      <td>101.0</td>\n",
       "      <td>101.0</td>\n",
       "      <td>NYC</td>\n",
       "      <td>20545.0</td>\n",
       "      <td>1.0</td>\n",
       "      <td>MA</td>\n",
       "      <td>20567.0</td>\n",
       "      <td>...</td>\n",
       "      <td>NaN</td>\n",
       "      <td>M</td>\n",
       "      <td>1988.0</td>\n",
       "      <td>09302016</td>\n",
       "      <td>NaN</td>\n",
       "      <td>NaN</td>\n",
       "      <td>AA</td>\n",
       "      <td>9.246846e+10</td>\n",
       "      <td>00199</td>\n",
       "      <td>B2</td>\n",
       "    </tr>\n",
       "    <tr>\n",
       "      <th>4</th>\n",
       "      <td>17.0</td>\n",
       "      <td>2016.0</td>\n",
       "      <td>4.0</td>\n",
       "      <td>101.0</td>\n",
       "      <td>101.0</td>\n",
       "      <td>NYC</td>\n",
       "      <td>20545.0</td>\n",
       "      <td>1.0</td>\n",
       "      <td>MA</td>\n",
       "      <td>20567.0</td>\n",
       "      <td>...</td>\n",
       "      <td>NaN</td>\n",
       "      <td>M</td>\n",
       "      <td>2012.0</td>\n",
       "      <td>09302016</td>\n",
       "      <td>NaN</td>\n",
       "      <td>NaN</td>\n",
       "      <td>AA</td>\n",
       "      <td>9.246846e+10</td>\n",
       "      <td>00199</td>\n",
       "      <td>B2</td>\n",
       "    </tr>\n",
       "  </tbody>\n",
       "</table>\n",
       "<p>5 rows × 28 columns</p>\n",
       "</div>"
      ],
      "text/plain": [
       "   cicid   i94yr  i94mon  i94cit  i94res i94port  arrdate  i94mode i94addr  \\\n",
       "0    6.0  2016.0     4.0   692.0   692.0     XXX  20573.0      NaN     NaN   \n",
       "1    7.0  2016.0     4.0   254.0   276.0     ATL  20551.0      1.0      AL   \n",
       "2   15.0  2016.0     4.0   101.0   101.0     WAS  20545.0      1.0      MI   \n",
       "3   16.0  2016.0     4.0   101.0   101.0     NYC  20545.0      1.0      MA   \n",
       "4   17.0  2016.0     4.0   101.0   101.0     NYC  20545.0      1.0      MA   \n",
       "\n",
       "   depdate   ...     entdepu  matflag  biryear   dtaddto gender insnum  \\\n",
       "0      NaN   ...           U      NaN   1979.0  10282016    NaN    NaN   \n",
       "1      NaN   ...           Y      NaN   1991.0       D/S      M    NaN   \n",
       "2  20691.0   ...         NaN        M   1961.0  09302016      M    NaN   \n",
       "3  20567.0   ...         NaN        M   1988.0  09302016    NaN    NaN   \n",
       "4  20567.0   ...         NaN        M   2012.0  09302016    NaN    NaN   \n",
       "\n",
       "  airline        admnum  fltno visatype  \n",
       "0     NaN  1.897628e+09    NaN       B2  \n",
       "1     NaN  3.736796e+09  00296       F1  \n",
       "2      OS  6.666432e+08     93       B2  \n",
       "3      AA  9.246846e+10  00199       B2  \n",
       "4      AA  9.246846e+10  00199       B2  \n",
       "\n",
       "[5 rows x 28 columns]"
      ]
     },
     "execution_count": 6,
     "metadata": {},
     "output_type": "execute_result"
    }
   ],
   "source": [
    "df.head()"
   ]
  },
  {
   "cell_type": "code",
   "execution_count": 2,
   "metadata": {
    "editable": true
   },
   "outputs": [],
   "source": [
    "\n",
    "\n",
    "spark = SparkSession.builder.\\\n",
    "config(\"spark.jars.repositories\", \"https://repos.spark-packages.org/\").\\\n",
    "config(\"spark.jars.packages\", \"saurfang:spark-sas7bdat:2.0.0-s_2.11\").\\\n",
    "enableHiveSupport().getOrCreate()\n",
    "\n",
    "#df_spark = spark.read.format('com.github.saurfang.sas.spark').load('../../data/18-83510-I94-Data-2016/i94_apr16_sub.sas7bdat')\n"
   ]
  },
  {
   "cell_type": "markdown",
   "metadata": {
    "editable": true
   },
   "source": [
    "#### Immigration Data Cleanup"
   ]
  },
  {
   "cell_type": "code",
   "execution_count": 3,
   "metadata": {
    "editable": true
   },
   "outputs": [
    {
     "data": {
      "text/plain": [
       "<bound method DataFrame.printSchema of DataFrame[cicid: double, i94yr: double, i94mon: double, i94cit: double, i94res: double, i94port: string, arrdate: double, i94mode: double, i94addr: string, depdate: double, i94bir: double, i94visa: double, count: double, dtadfile: string, visapost: string, occup: string, entdepa: string, entdepd: string, entdepu: string, matflag: string, biryear: double, dtaddto: string, gender: string, insnum: string, airline: string, admnum: double, fltno: string, visatype: string]>"
      ]
     },
     "execution_count": 3,
     "metadata": {},
     "output_type": "execute_result"
    }
   ],
   "source": [
    "#write to parquet\n",
    "\n",
    "df_spark=spark.read.parquet(\"sas_data\")\n",
    "df_spark.printSchema\n"
   ]
  },
  {
   "cell_type": "markdown",
   "metadata": {
    "editable": true
   },
   "source": [
    "##### Convert Data Types"
   ]
  },
  {
   "cell_type": "code",
   "execution_count": 4,
   "metadata": {
    "editable": true
   },
   "outputs": [
    {
     "data": {
      "text/plain": [
       "<bound method DataFrame.printSchema of DataFrame[cicid: int, i94yr: double, i94mon: double, i94cit: int, i94res: int, i94port: string, arrdate: double, i94mode: int, i94addr: string, depdate: double, i94bir: int, i94visa: int, count: double, dtadfile: string, visapost: string, occup: string, entdepa: string, entdepd: string, entdepu: string, matflag: string, biryear: int, dtaddto: string, gender: string, insnum: string, airline: string, admnum: double, fltno: string, visatype: string]>"
      ]
     },
     "execution_count": 4,
     "metadata": {},
     "output_type": "execute_result"
    }
   ],
   "source": [
    "df_spark = df_spark.withColumn(\"cicid\", df_spark[\"cicid\"].cast(IntegerType())).withColumn(\"i94cit\", df_spark[\"i94cit\"].cast(IntegerType())).withColumn(\"i94res\", df_spark[\"i94res\"].cast(IntegerType())).withColumn(\"i94mode\", df_spark[\"i94mode\"].cast(IntegerType())).withColumn(\"i94bir\", df_spark[\"i94bir\"].cast(IntegerType())).withColumn(\"i94visa\", df_spark[\"i94visa\"].cast(IntegerType())).withColumn(\"biryear\", df_spark[\"biryear\"].cast(IntegerType()))\n",
    "df_spark.printSchema"
   ]
  },
  {
   "cell_type": "markdown",
   "metadata": {
    "editable": true
   },
   "source": [
    "##### Rename Columns and Remove Unneeded Columns"
   ]
  },
  {
   "cell_type": "code",
   "execution_count": 5,
   "metadata": {
    "editable": true
   },
   "outputs": [],
   "source": [
    "df_spark = df_spark.select(col('cicid').alias('immigration_id'),col('i94cit').alias('citizenship_country_id'),col('i94res').alias('residency_country_id'),col('i94port').alias('arrival_city_id'),col('arrdate').alias('arrival_date'),col('i94mode').alias('travel_mode_id'),col('i94addr').alias('current_state_id'),col('depdate').alias('departure_date'),col('i94bir').alias('immigration_age'),col('i94visa').alias('visa_type_id'),col('biryear').alias('birth_year'),col('gender'))\n"
   ]
  },
  {
   "cell_type": "code",
   "execution_count": 6,
   "metadata": {
    "editable": true
   },
   "outputs": [],
   "source": [
    "get_date = udf(lambda x: (dt.datetime(1960, 1, 1).date() + dt.timedelta(float(x))).isoformat() if x else None)"
   ]
  },
  {
   "cell_type": "code",
   "execution_count": 7,
   "metadata": {
    "editable": true
   },
   "outputs": [],
   "source": [
    "df_spark = df_spark.withColumn(\"arrival_date\", get_date(df_spark.arrival_date))"
   ]
  },
  {
   "cell_type": "code",
   "execution_count": 8,
   "metadata": {
    "editable": true
   },
   "outputs": [],
   "source": [
    "df_spark = df_spark.withColumn(\"departure_date\", get_date(df_spark.departure_date))"
   ]
  },
  {
   "cell_type": "code",
   "execution_count": 9,
   "metadata": {
    "editable": true
   },
   "outputs": [],
   "source": [
    "df_spark = df_spark.withColumn(\"arrival_date\", to_date(df_spark.arrival_date, 'yyyy-MM-dd')).withColumn(\"departure_date\", to_date(df_spark.departure_date, 'yyyy-MM-dd'))\n"
   ]
  },
  {
   "cell_type": "code",
   "execution_count": 170,
   "metadata": {
    "editable": true
   },
   "outputs": [
    {
     "name": "stdout",
     "output_type": "stream",
     "text": [
      "+--------------+----------------------+--------------------+---------------+------------+--------------+----------------+--------------+---------------+------------+----------+------+\n",
      "|immigration_id|citizenship_country_id|residency_country_id|arrival_city_id|arrival_date|travel_mode_id|current_state_id|departure_date|immigration_age|visa_type_id|birth_year|gender|\n",
      "+--------------+----------------------+--------------------+---------------+------------+--------------+----------------+--------------+---------------+------------+----------+------+\n",
      "|       5748517|                   245|                 438|            LOS|  2016-04-30|             1|              CA|    2016-05-08|             40|           1|      1976|     F|\n",
      "|       5748518|                   245|                 438|            LOS|  2016-04-30|             1|              NV|    2016-05-17|             32|           1|      1984|     F|\n",
      "|       5748519|                   245|                 438|            LOS|  2016-04-30|             1|              WA|    2016-05-08|             29|           1|      1987|     M|\n",
      "|       5748520|                   245|                 438|            LOS|  2016-04-30|             1|              WA|    2016-05-14|             29|           1|      1987|     F|\n",
      "|       5748521|                   245|                 438|            LOS|  2016-04-30|             1|              WA|    2016-05-14|             28|           1|      1988|     M|\n",
      "|       5748522|                   245|                 464|            HHW|  2016-04-30|             1|              HI|    2016-05-05|             57|           2|      1959|     M|\n",
      "|       5748523|                   245|                 464|            HHW|  2016-04-30|             1|              HI|    2016-05-12|             66|           2|      1950|     F|\n",
      "|       5748524|                   245|                 464|            HHW|  2016-04-30|             1|              HI|    2016-05-12|             41|           2|      1975|     F|\n",
      "|       5748525|                   245|                 464|            HOU|  2016-04-30|             1|              FL|    2016-05-07|             27|           2|      1989|     M|\n",
      "|       5748526|                   245|                 464|            LOS|  2016-04-30|             1|              CA|    2016-05-07|             26|           2|      1990|     F|\n",
      "|       5748527|                   245|                 504|            NEW|  2016-04-30|             1|              MA|    2016-05-02|             44|           2|      1972|     M|\n",
      "|       5748528|                   245|                 504|            LOS|  2016-04-30|             1|            null|    2016-05-01|             39|           2|      1977|     M|\n",
      "|       5748529|                   245|                 504|            WAS|  2016-04-30|             1|              VA|    2016-05-22|             38|           2|      1978|     M|\n",
      "|       5748530|                   245|                 504|            LOS|  2016-04-30|             1|              CA|    2016-05-03|             56|           2|      1960|     F|\n",
      "|       5748531|                   245|                 504|            LOS|  2016-04-30|             1|              CA|    2016-05-03|             38|           2|      1978|     M|\n",
      "|       5748532|                   245|                 504|            MIA|  2016-04-30|             1|              FL|    2016-05-07|             53|           2|      1963|     F|\n",
      "|       5748534|                   245|                 528|            SFR|  2016-04-30|             1|              CA|          null|             84|           2|      1932|     F|\n",
      "|       5748876|                   245|                 582|            HOU|  2016-04-30|             1|              TX|    2016-05-09|             43|           1|      1973|     M|\n",
      "|       5748877|                   245|                 582|            HOU|  2016-04-30|             1|              TX|    2016-05-09|             30|           1|      1986|     F|\n",
      "|       5748881|                   245|                 582|            LOS|  2016-04-30|             1|              CA|    2016-05-01|             34|           2|      1982|     M|\n",
      "+--------------+----------------------+--------------------+---------------+------------+--------------+----------------+--------------+---------------+------------+----------+------+\n",
      "only showing top 20 rows\n",
      "\n"
     ]
    }
   ],
   "source": [
    "#df_spark.take(5)\n",
    "#df_spark.describe(\"biryear\").show()\n",
    "#df_spark.count()\n",
    "#df_spark.select(\"cicid\").distinct().show()\n",
    "df_spark.show()"
   ]
  },
  {
   "cell_type": "code",
   "execution_count": 10,
   "metadata": {
    "editable": true
   },
   "outputs": [],
   "source": [
    "df_spark1 = df_spark.select(col('arrival_date').alias('date_id')).dropDuplicates() \n",
    "df_spark2 = df_spark.select(col('departure_date').alias('date_id')).dropDuplicates() \n"
   ]
  },
  {
   "cell_type": "code",
   "execution_count": 11,
   "metadata": {
    "editable": true
   },
   "outputs": [],
   "source": [
    "time_df = df_spark1.union(df_spark2).distinct()"
   ]
  },
  {
   "cell_type": "code",
   "execution_count": 12,
   "metadata": {
    "editable": true
   },
   "outputs": [
    {
     "data": {
      "text/plain": [
       "236"
      ]
     },
     "execution_count": 12,
     "metadata": {},
     "output_type": "execute_result"
    }
   ],
   "source": [
    "time_df.count()"
   ]
  },
  {
   "cell_type": "code",
   "execution_count": 178,
   "metadata": {
    "editable": true
   },
   "outputs": [
    {
     "name": "stdout",
     "output_type": "stream",
     "text": [
      "+----------+\n",
      "|   date_id|\n",
      "+----------+\n",
      "|2016-03-01|\n",
      "|2016-04-25|\n",
      "|2016-05-03|\n",
      "|2016-08-15|\n",
      "|2016-08-31|\n",
      "|2016-07-26|\n",
      "|2016-07-17|\n",
      "|2016-08-23|\n",
      "|2016-07-03|\n",
      "|2016-05-26|\n",
      "|2016-06-02|\n",
      "|2016-02-04|\n",
      "|2016-01-13|\n",
      "|2016-04-22|\n",
      "|2016-06-16|\n",
      "|2069-05-03|\n",
      "|2016-05-09|\n",
      "|2016-07-19|\n",
      "|2016-09-15|\n",
      "|2016-05-23|\n",
      "+----------+\n",
      "only showing top 20 rows\n",
      "\n"
     ]
    }
   ],
   "source": [
    "time_df.show()"
   ]
  },
  {
   "cell_type": "code",
   "execution_count": 171,
   "metadata": {
    "editable": true
   },
   "outputs": [
    {
     "data": {
      "text/plain": [
       "<bound method DataFrame.printSchema of DataFrame[immigration_id: int, citizenship_country_id: int, residency_country_id: int, arrival_city_id: string, arrival_date: date, travel_mode_id: int, current_state_id: string, departure_date: date, immigration_age: int, visa_type_id: int, birth_year: int, gender: string]>"
      ]
     },
     "execution_count": 171,
     "metadata": {},
     "output_type": "execute_result"
    }
   ],
   "source": [
    "df_spark.printSchema"
   ]
  },
  {
   "cell_type": "markdown",
   "metadata": {
    "editable": true
   },
   "source": [
    "#### Demographic Data Cleanup"
   ]
  },
  {
   "cell_type": "code",
   "execution_count": 121,
   "metadata": {
    "editable": true
   },
   "outputs": [
    {
     "data": {
      "text/plain": [
       "<bound method DataFrame.printSchema of DataFrame[City: string, State: string, Median Age: string, Male Population: string, Female Population: string, Total Population: string, Number of Veterans: string, Foreign-born: string, Average Household Size: string, State Code: string, Race: string, Count: string]>"
      ]
     },
     "execution_count": 121,
     "metadata": {},
     "output_type": "execute_result"
    }
   ],
   "source": [
    "df_spark=spark.read.option(\"header\", True).options(delimiter=';').csv(\"us-cities-demographics.csv\")\n",
    "df_spark.printSchema"
   ]
  },
  {
   "cell_type": "code",
   "execution_count": 116,
   "metadata": {
    "editable": true
   },
   "outputs": [
    {
     "name": "stdout",
     "output_type": "stream",
     "text": [
      "+------------------+\n",
      "|Avg_household_size|\n",
      "+------------------+\n",
      "|              2.43|\n",
      "|              3.89|\n",
      "|              4.13|\n",
      "|               2.6|\n",
      "|              2.78|\n",
      "|              3.04|\n",
      "|              2.49|\n",
      "|              3.19|\n",
      "|              3.46|\n",
      "|              3.02|\n",
      "|              3.61|\n",
      "|              3.06|\n",
      "|              2.91|\n",
      "|              3.44|\n",
      "|              2.35|\n",
      "|               2.7|\n",
      "|              2.98|\n",
      "|              3.13|\n",
      "|              3.37|\n",
      "|              3.24|\n",
      "+------------------+\n",
      "only showing top 20 rows\n",
      "\n"
     ]
    }
   ],
   "source": [
    "df_spark.select(\"Avg_household_size\").distinct().show()"
   ]
  },
  {
   "cell_type": "markdown",
   "metadata": {
    "editable": true
   },
   "source": [
    "##### Convert Data Types"
   ]
  },
  {
   "cell_type": "code",
   "execution_count": 122,
   "metadata": {
    "editable": true
   },
   "outputs": [
    {
     "data": {
      "text/plain": [
       "<bound method DataFrame.printSchema of DataFrame[City: string, State: string, Median Age: double, Male Population: int, Female Population: int, Total Population: int, Number of Veterans: int, Foreign-born: string, Average Household Size: double, State Code: string, Race: string, Count: int]>"
      ]
     },
     "execution_count": 122,
     "metadata": {},
     "output_type": "execute_result"
    }
   ],
   "source": [
    "df_spark = df_spark.withColumn(\"Median Age\", df_spark[\"Median Age\"].cast(DoubleType())).withColumn(\"Male Population\", df_spark[\"Male Population\"].cast(IntegerType())).withColumn(\"Female Population\", df_spark[\"Female Population\"].cast(IntegerType())).withColumn(\"Total Population\", df_spark[\"Total Population\"].cast(IntegerType())).withColumn(\"Number of Veterans\", df_spark[\"Number of Veterans\"].cast(IntegerType())).withColumn(\"Average Household Size\", df_spark[\"Average Household Size\"].cast(DoubleType())).withColumn(\"Count\", df_spark[\"Count\"].cast(IntegerType()))\n",
    "df_spark.printSchema\n"
   ]
  },
  {
   "cell_type": "code",
   "execution_count": null,
   "metadata": {
    "editable": true
   },
   "outputs": [],
   "source": []
  },
  {
   "cell_type": "markdown",
   "metadata": {
    "editable": true
   },
   "source": [
    "##### Rename fields, sort by city, state, and race count, and then drop duplicates based on city & state"
   ]
  },
  {
   "cell_type": "code",
   "execution_count": 123,
   "metadata": {
    "editable": true
   },
   "outputs": [],
   "source": [
    "df_spark = df_spark.select(col('City').alias('city'),col('State Code').alias('state_code'),col('Median Age').alias('median_age'),col('Male Population').alias('male_population'),col('Female Population').alias('female_population'),col('Total Population').alias('total_population'),col('Number of Veterans').alias('veteran_population'),col('Foreign-born').alias('foreign_population'),col('Average Household Size').alias('avg_household_size'),col('Race').alias('race_majority'),col('Count').alias('race_count')).orderBy(col('city').asc(),col('state_code').asc(),col('race_count').desc()).dropDuplicates(['city','state_code'])\n"
   ]
  },
  {
   "cell_type": "code",
   "execution_count": 124,
   "metadata": {
    "editable": true
   },
   "outputs": [
    {
     "name": "stdout",
     "output_type": "stream",
     "text": [
      "+--------------+----------+----------+---------------+-----------------+----------------+------------------+------------------+------------------+------------------+----------+\n",
      "|          city|state_code|median_age|male_population|female_population|total_population|veteran_population|foreign_population|avg_household_size|     race_majority|race_count|\n",
      "+--------------+----------+----------+---------------+-----------------+----------------+------------------+------------------+------------------+------------------+----------+\n",
      "|     Asheville|        NC|      37.9|          42100|            46407|           88507|              4973|              6630|              2.18|             White|     77979|\n",
      "|          Mesa|        AZ|      36.9|         234998|           236835|          471833|             31808|             57492|              2.68|             White|    413010|\n",
      "|       Norwalk|        CA|      35.0|          53125|            54020|          107145|              3027|             39396|              3.88|Hispanic or Latino|     76020|\n",
      "|        Arvada|        CO|      41.0|          54870|            60165|          115035|              8930|              4921|              2.49|             White|    107639|\n",
      "|   Minneapolis|        MN|      32.4|         206547|           204388|          410935|             15217|             70769|              2.26|             White|    277862|\n",
      "|Mount Pleasant|        SC|      42.7|          39429|            41880|           81309|              3981|              4701|              2.53|             White|     75908|\n",
      "| Mountain View|        CA|      33.5|          42493|            37945|           80438|              1376|             31857|              2.46|             White|     51400|\n",
      "|      Waukegan|        IL|      32.3|          45514|            42833|           88347|              3404|             30997|              2.92|             White|     65629|\n",
      "|       Deltona|        FL|      39.9|          44853|            43621|           88474|              5664|              7098|              2.89|             White|     75686|\n",
      "|       Fontana|        CA|      29.5|         100644|           106828|          207472|              4076|             61448|              4.15|Hispanic or Latino|    156134|\n",
      "|       Ontario|        CA|      31.0|          85059|            86141|          171200|              4816|             48557|              3.52|Hispanic or Latino|    118292|\n",
      "|  South Jordan|        UT|      33.8|          33669|            32970|           66639|              2595|              6142|              3.61|             White|     59046|\n",
      "|  Lee's Summit|        MO|      36.8|          48353|            46715|           95068|              6624|              3803|              2.68|             White|     82915|\n",
      "|   Saint Cloud|        MN|      30.7|          34311|            33942|           68253|              5012|              5757|              2.41|             White|     59794|\n",
      "|       Lansing|        MI|      31.4|          54333|            59777|          114110|              5327|              8371|              2.39|             White|     75688|\n",
      "|   Santa Clara|        CA|      35.2|          63278|            62938|          126216|              4426|             52281|              2.75|             Asian|     58360|\n",
      "|        Folsom|        CA|      40.9|          41051|            35317|           76368|              4187|             13234|              2.62|             White|     57435|\n",
      "|        Lawton|        OK|      31.1|          51099|            45560|           96659|             11572|              6123|              2.72|             White|     63948|\n",
      "|   Maple Grove|        MN|      38.6|          31780|            36601|           68381|              2943|              7645|              2.64|             White|     59683|\n",
      "|     Davenport|        IA|      35.2|          50123|            52454|          102577|              7090|              4065|              2.39|             White|     88145|\n",
      "+--------------+----------+----------+---------------+-----------------+----------------+------------------+------------------+------------------+------------------+----------+\n",
      "only showing top 20 rows\n",
      "\n"
     ]
    }
   ],
   "source": [
    "df_spark.show()"
   ]
  },
  {
   "cell_type": "code",
   "execution_count": 113,
   "metadata": {
    "editable": true
   },
   "outputs": [
    {
     "data": {
      "text/plain": [
       "596"
      ]
     },
     "execution_count": 113,
     "metadata": {},
     "output_type": "execute_result"
    }
   ],
   "source": [
    "df_spark.count()"
   ]
  },
  {
   "cell_type": "markdown",
   "metadata": {
    "editable": true
   },
   "source": [
    "### Step 2: Explore and Assess the Data\n",
    "#### Explore the Data \n",
    "Identify data quality issues, like missing values, duplicate data, etc.\n",
    "\n",
    "#### Cleaning Steps\n",
    "Document steps necessary to clean the data"
   ]
  },
  {
   "cell_type": "code",
   "execution_count": null,
   "metadata": {
    "editable": true
   },
   "outputs": [],
   "source": []
  },
  {
   "cell_type": "code",
   "execution_count": null,
   "metadata": {
    "editable": true
   },
   "outputs": [],
   "source": [
    "# Performing cleaning tasks here\n",
    "\n",
    "\n",
    "\n"
   ]
  },
  {
   "cell_type": "markdown",
   "metadata": {
    "editable": true
   },
   "source": [
    "### Step 3: Define the Data Model\n",
    "#### 3.1 Conceptual Data Model\n",
    "Map out the conceptual data model and explain why you chose that model\n",
    "\n",
    "#### 3.2 Mapping Out Data Pipelines\n",
    "List the steps necessary to pipeline the data into the chosen data model"
   ]
  },
  {
   "cell_type": "markdown",
   "metadata": {
    "editable": true
   },
   "source": [
    "### Step 4: Run Pipelines to Model the Data \n",
    "#### 4.1 Create the data model\n",
    "Build the data pipelines to create the data model."
   ]
  },
  {
   "cell_type": "code",
   "execution_count": null,
   "metadata": {
    "editable": true
   },
   "outputs": [],
   "source": [
    "# Write code here"
   ]
  },
  {
   "cell_type": "markdown",
   "metadata": {
    "editable": true
   },
   "source": [
    "#### 4.2 Data Quality Checks\n",
    "Explain the data quality checks you'll perform to ensure the pipeline ran as expected. These could include:\n",
    " * Integrity constraints on the relational database (e.g., unique key, data type, etc.)\n",
    " * Unit tests for the scripts to ensure they are doing the right thing\n",
    " * Source/Count checks to ensure completeness\n",
    " \n",
    "Run Quality Checks"
   ]
  },
  {
   "cell_type": "code",
   "execution_count": null,
   "metadata": {
    "editable": true
   },
   "outputs": [],
   "source": [
    "# Perform quality checks here"
   ]
  },
  {
   "cell_type": "markdown",
   "metadata": {
    "editable": true
   },
   "source": [
    "#### 4.3 Data dictionary \n",
    "Create a data dictionary for your data model. For each field, provide a brief description of what the data is and where it came from. You can include the data dictionary in the notebook or in a separate file."
   ]
  },
  {
   "cell_type": "markdown",
   "metadata": {
    "editable": true
   },
   "source": [
    "#### Step 5: Complete Project Write Up\n",
    "* Clearly state the rationale for the choice of tools and technologies for the project.\n",
    "* Propose how often the data should be updated and why.\n",
    "* Write a description of how you would approach the problem differently under the following scenarios:\n",
    " * The data was increased by 100x.\n",
    " * The data populates a dashboard that must be updated on a daily basis by 7am every day.\n",
    " * The database needed to be accessed by 100+ people."
   ]
  },
  {
   "cell_type": "code",
   "execution_count": null,
   "metadata": {
    "editable": true
   },
   "outputs": [],
   "source": []
  },
  {
   "cell_type": "code",
   "execution_count": null,
   "metadata": {
    "editable": true
   },
   "outputs": [],
   "source": []
  },
  {
   "cell_type": "code",
   "execution_count": null,
   "metadata": {
    "editable": true
   },
   "outputs": [],
   "source": []
  },
  {
   "cell_type": "code",
   "execution_count": null,
   "metadata": {
    "editable": true
   },
   "outputs": [],
   "source": []
  },
  {
   "cell_type": "code",
   "execution_count": null,
   "metadata": {
    "editable": true
   },
   "outputs": [],
   "source": []
  },
  {
   "cell_type": "code",
   "execution_count": null,
   "metadata": {
    "editable": true
   },
   "outputs": [],
   "source": []
  }
 ],
 "metadata": {
  "kernelspec": {
   "display_name": "Python 3",
   "language": "python",
   "name": "python3"
  },
  "language_info": {
   "codemirror_mode": {
    "name": "ipython",
    "version": 3
   },
   "file_extension": ".py",
   "mimetype": "text/x-python",
   "name": "python",
   "nbconvert_exporter": "python",
   "pygments_lexer": "ipython3",
   "version": "3.6.3"
  }
 },
 "nbformat": 4,
 "nbformat_minor": 4
}
